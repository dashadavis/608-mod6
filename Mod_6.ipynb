{
 "cells": [
  {
   "cell_type": "markdown",
   "id": "0f6d8a9b-1d76-4301-9e1c-bb9e2b001ceb",
   "metadata": {},
   "source": [
    "# Dasha Davis, Module 6 Text Files and SQL"
   ]
  },
  {
   "cell_type": "code",
   "execution_count": 1,
   "id": "a6646acc-57ce-45e4-8218-6a2b3fdd40cd",
   "metadata": {},
   "outputs": [],
   "source": [
    "# Ch. 9, 9.3.1 -Writing to a text file"
   ]
  },
  {
   "cell_type": "code",
   "execution_count": 4,
   "id": "a501ed41-b1e5-4ede-9ca8-9789bffbe975",
   "metadata": {},
   "outputs": [],
   "source": [
    "with open('accounts.txt', mode='w') as accounts:\n",
    "    accounts.write('100 Jones 24.98\\n')\n",
    "    accounts.write('200 Doe 345.67\\n')\n",
    "    accounts.write('300 White 0.00\\n')\n",
    "    accounts.write('400 Stone -42.16\\n')\n",
    "    accounts.write('500 Rich 224.62\\n')"
   ]
  },
  {
   "cell_type": "code",
   "execution_count": null,
   "id": "e9d91ff5-3361-499f-ae2c-8679d1ce0fed",
   "metadata": {},
   "outputs": [],
   "source": [
    "#\\n means new line - records in text files are stored in one line...mode='w' means write"
   ]
  },
  {
   "cell_type": "code",
   "execution_count": null,
   "id": "2f6970c0-d34d-4fea-a246-6e3de5d6b794",
   "metadata": {},
   "outputs": [],
   "source": []
  },
  {
   "cell_type": "markdown",
   "id": "73efb622-6485-4cde-bda6-394647b6b8e8",
   "metadata": {},
   "source": [
    "## Dasha Davis Self-Check 9.3.1, pg. 323 "
   ]
  },
  {
   "cell_type": "code",
   "execution_count": 5,
   "id": "5b710edd-f5bf-4285-bb37-e5dbcb3e7e59",
   "metadata": {},
   "outputs": [],
   "source": [
    "with open('grades.txt', mode='w') as grades:\n",
    "    grades.write('1 Red A\\n')\n",
    "    grades.write('2 Green B\\n')\n",
    "    grades.write('3 White A\\n')"
   ]
  },
  {
   "cell_type": "code",
   "execution_count": null,
   "id": "0e3174fb-11d0-444d-b092-39a402169040",
   "metadata": {},
   "outputs": [],
   "source": []
  },
  {
   "cell_type": "code",
   "execution_count": 6,
   "id": "da5651c5-651e-43da-a85b-ebff2da138e5",
   "metadata": {},
   "outputs": [],
   "source": [
    "# 9.3.2 Reading Data from a Text File"
   ]
  },
  {
   "cell_type": "code",
   "execution_count": 11,
   "id": "309df533-0510-4e37-9864-8eb9376aa422",
   "metadata": {},
   "outputs": [
    {
     "name": "stdout",
     "output_type": "stream",
     "text": [
      "Accounts  Name         Balance\n",
      "100       Jones          24.98\n",
      "200       Doe           345.67\n",
      "300       White           0.00\n",
      "400       Stone         -42.16\n",
      "500       Rich          224.62\n"
     ]
    }
   ],
   "source": [
    "with open('accounts.txt', mode='r') as accounts:\n",
    "          print(f'{\"Accounts\":<10}{\"Name\":<10}{\"Balance\":>10}')\n",
    "          for record in accounts:\n",
    "              account, name, balance = record.split()\n",
    "              print(f'{account:<10}{name:<10}{balance:>10}')"
   ]
  },
  {
   "cell_type": "code",
   "execution_count": 12,
   "id": "c591c16f-51dd-4f00-aff6-837fd1b1106e",
   "metadata": {},
   "outputs": [],
   "source": [
    "# I had two errors in this snippet. double quotes instead of single quotes, and my indention for the last two lines were not correct. "
   ]
  },
  {
   "cell_type": "code",
   "execution_count": null,
   "id": "00468cef-7cb2-45a7-88c7-098d9c150a56",
   "metadata": {},
   "outputs": [],
   "source": []
  },
  {
   "cell_type": "markdown",
   "id": "96e8ab58-9ef4-46c3-a5b6-cfc7ce439d8e",
   "metadata": {},
   "source": [
    "## Self-Check 9.3"
   ]
  },
  {
   "cell_type": "code",
   "execution_count": 13,
   "id": "209f6220-392e-461a-91f9-530b34fb379a",
   "metadata": {},
   "outputs": [
    {
     "name": "stdout",
     "output_type": "stream",
     "text": [
      "ID  Name   Grade\n",
      "1   Red    A\n",
      "2   Green  B\n",
      "3   White  A\n"
     ]
    }
   ],
   "source": [
    "with open('grades.txt', 'r') as grades:\n",
    "    print(f'{\"ID\":<4}{\"Name\":<7}{\"Grade\"}')\n",
    "    for record in grades:\n",
    "        student_id, name, grade = record.split()\n",
    "        print(f'{student_id:<4}{name:<7}{grade}')"
   ]
  },
  {
   "cell_type": "code",
   "execution_count": null,
   "id": "d26a0338-ffb1-4151-bc47-49ba1602da34",
   "metadata": {},
   "outputs": [],
   "source": []
  },
  {
   "cell_type": "code",
   "execution_count": 15,
   "id": "9469afb0-422c-4fc0-bef8-d815724d0b49",
   "metadata": {},
   "outputs": [],
   "source": [
    "# 9.4 Updating Text Files"
   ]
  },
  {
   "cell_type": "code",
   "execution_count": null,
   "id": "c5476160-6e0c-4d9c-a783-0a946d3c460f",
   "metadata": {},
   "outputs": [],
   "source": [
    "# Use with statement to update the acccounts.txt to change account 300s name from 'White' to 'Williams'"
   ]
  },
  {
   "cell_type": "code",
   "execution_count": 16,
   "id": "00782f0b-fae0-47b7-95da-dc1bf0cd1e36",
   "metadata": {},
   "outputs": [],
   "source": [
    "accounts = open('accounts.txt', 'r')"
   ]
  },
  {
   "cell_type": "code",
   "execution_count": 17,
   "id": "7045dac5-5684-443b-940f-22e1c86e85b8",
   "metadata": {},
   "outputs": [],
   "source": [
    "temp_file = open('temp_file.txt', 'w')"
   ]
  },
  {
   "cell_type": "code",
   "execution_count": 21,
   "id": "dcfa5150-98f5-426f-bf49-e51c5de59d96",
   "metadata": {},
   "outputs": [
    {
     "ename": "ValueError",
     "evalue": "I/O operation on closed file.",
     "output_type": "error",
     "traceback": [
      "\u001b[1;31m---------------------------------------------------------------------------\u001b[0m",
      "\u001b[1;31mValueError\u001b[0m                                Traceback (most recent call last)",
      "Input \u001b[1;32mIn [21]\u001b[0m, in \u001b[0;36m<cell line: 1>\u001b[1;34m()\u001b[0m\n\u001b[1;32m----> 1\u001b[0m \u001b[38;5;28;01mwith\u001b[39;00m accounts, temp_file:\n\u001b[0;32m      2\u001b[0m     \u001b[38;5;28;01mfor\u001b[39;00m record \u001b[38;5;129;01min\u001b[39;00m accounts:\n\u001b[0;32m      3\u001b[0m         account, name, balance \u001b[38;5;241m=\u001b[39m record\u001b[38;5;241m.\u001b[39msplit()\n",
      "\u001b[1;31mValueError\u001b[0m: I/O operation on closed file."
     ]
    }
   ],
   "source": [
    "with accounts, temp_file:\n",
    "    for record in accounts:\n",
    "        account, name, balance = record.split()\n",
    "        if account != '300':\n",
    "            temp_file.write(record)\n",
    "        else:\n",
    "            new_record = ' '.join([account, 'Williams', balance])\n",
    "            temp_file.write(new_record + '\\n')"
   ]
  },
  {
   "cell_type": "code",
   "execution_count": 22,
   "id": "26a1e2b6-a2b4-4dae-ae57-2fd6f12dbc97",
   "metadata": {},
   "outputs": [],
   "source": [
    "import os\n",
    "os.remove('accounts.txt')\n",
    "os.rename('temp_file.txt', 'accounts.txt')"
   ]
  },
  {
   "cell_type": "code",
   "execution_count": null,
   "id": "db949974-868d-4c54-bce9-ccbe165950c4",
   "metadata": {},
   "outputs": [],
   "source": []
  },
  {
   "cell_type": "markdown",
   "id": "7d81c394-0caa-4a9b-b5f6-8832fd38af1e",
   "metadata": {},
   "source": [
    "## Dasha Davis Self Check 9.4"
   ]
  },
  {
   "cell_type": "code",
   "execution_count": 23,
   "id": "af005e95-825d-447c-bfe7-dff72124096c",
   "metadata": {},
   "outputs": [],
   "source": [
    "accounts = open('accounts.txt', 'r')\n",
    "temp_file = open('temp_file.txt', 'w')\n",
    "with accounts, temp_file:\n",
    "    for record in accounts:\n",
    "        account, name, balance = record.split()\n",
    "        if name != 'Doe':\n",
    "            temp_file.write(record)\n",
    "        else:\n",
    "            new_record = ' '.join([account, 'Smith', balance])\n",
    "            temp_file.write(new_record + '\\n')\n",
    "\n",
    "import os\n",
    "\n",
    "os.remove('accounts.txt')\n",
    "\n",
    "os.rename('temp_file.txt', 'accounts.txt')"
   ]
  },
  {
   "cell_type": "code",
   "execution_count": null,
   "id": "aea8f871-b91b-4bae-a87a-999b19637477",
   "metadata": {},
   "outputs": [],
   "source": []
  },
  {
   "cell_type": "code",
   "execution_count": 24,
   "id": "b2b0183d-e86d-40f9-ae16-a82a050eebcf",
   "metadata": {},
   "outputs": [],
   "source": [
    "# 9.5, Serialization with JSON - using dump function"
   ]
  },
  {
   "cell_type": "code",
   "execution_count": 25,
   "id": "f3e0c7b7-8110-45a0-8b0d-21dfd5b6e1b0",
   "metadata": {},
   "outputs": [],
   "source": [
    "accounts_dict = {'accounts': [\n",
    "    {'accounts': 100, 'name': 'Jones', 'balance': 24.98}, \n",
    "    {'accounts': 200, 'name': 'Doe', 'balance': 345.67}]}"
   ]
  },
  {
   "cell_type": "code",
   "execution_count": 26,
   "id": "f1d4d387-34fe-4261-89a4-c876312a9d52",
   "metadata": {},
   "outputs": [],
   "source": [
    "import json\n",
    "\n",
    "with open('accounts.json', 'w') as accounts:\n",
    "    json.dump(accounts_dict, accounts)"
   ]
  },
  {
   "cell_type": "code",
   "execution_count": null,
   "id": "606d4409-3bc9-484d-8101-8cd20bd0ce05",
   "metadata": {},
   "outputs": [],
   "source": []
  },
  {
   "cell_type": "code",
   "execution_count": null,
   "id": "f0561f4c-85ea-447a-8e98-c54c46530637",
   "metadata": {},
   "outputs": [],
   "source": [
    "#deserializing the JSON Text - using load function"
   ]
  },
  {
   "cell_type": "code",
   "execution_count": 28,
   "id": "9038a17e-f6ae-4bfd-ac79-90d6ccc8b01e",
   "metadata": {},
   "outputs": [],
   "source": [
    "with open('accounts.json', 'r') as accounts:\n",
    "    accounts_json = json.load(accounts)"
   ]
  },
  {
   "cell_type": "code",
   "execution_count": 29,
   "id": "e09e7bfb-864f-4cdf-a3d8-ce4a791c5050",
   "metadata": {},
   "outputs": [
    {
     "data": {
      "text/plain": [
       "{'accounts': [{'accounts': 100, 'name': 'Jones', 'balance': 24.98},\n",
       "  {'accounts': 200, 'name': 'Doe', 'balance': 345.67}]}"
      ]
     },
     "execution_count": 29,
     "metadata": {},
     "output_type": "execute_result"
    }
   ],
   "source": [
    "accounts_json #display dictionary"
   ]
  },
  {
   "cell_type": "code",
   "execution_count": 30,
   "id": "3bd16cd8-d0bf-4943-893f-db3b7697c8b6",
   "metadata": {},
   "outputs": [
    {
     "data": {
      "text/plain": [
       "[{'accounts': 100, 'name': 'Jones', 'balance': 24.98},\n",
       " {'accounts': 200, 'name': 'Doe', 'balance': 345.67}]"
      ]
     },
     "execution_count": 30,
     "metadata": {},
     "output_type": "execute_result"
    }
   ],
   "source": [
    "accounts_json['accounts']"
   ]
  },
  {
   "cell_type": "code",
   "execution_count": 31,
   "id": "d5259478-4eb3-46f7-9ef0-400683ac0643",
   "metadata": {},
   "outputs": [
    {
     "data": {
      "text/plain": [
       "{'accounts': 100, 'name': 'Jones', 'balance': 24.98}"
      ]
     },
     "execution_count": 31,
     "metadata": {},
     "output_type": "execute_result"
    }
   ],
   "source": [
    "accounts_json['accounts'][0] #access individual dictionaries using index number"
   ]
  },
  {
   "cell_type": "code",
   "execution_count": 32,
   "id": "3ae2c151-37ac-4ae6-9c1d-a069b1e3bc63",
   "metadata": {},
   "outputs": [
    {
     "data": {
      "text/plain": [
       "{'accounts': 200, 'name': 'Doe', 'balance': 345.67}"
      ]
     },
     "execution_count": 32,
     "metadata": {},
     "output_type": "execute_result"
    }
   ],
   "source": [
    "accounts_json['accounts'][1]"
   ]
  },
  {
   "cell_type": "code",
   "execution_count": null,
   "id": "b1b4f2a8-7ac5-4316-821e-75ca1acbf503",
   "metadata": {},
   "outputs": [],
   "source": [
    "#displaying JSON text - 'pretty printing'"
   ]
  },
  {
   "cell_type": "code",
   "execution_count": 33,
   "id": "ff496c47-a02e-4307-a4ce-79ce095f8e07",
   "metadata": {},
   "outputs": [
    {
     "name": "stdout",
     "output_type": "stream",
     "text": [
      "{\n",
      "    \"accounts\": [\n",
      "        {\n",
      "            \"accounts\": 100,\n",
      "            \"name\": \"Jones\",\n",
      "            \"balance\": 24.98\n",
      "        },\n",
      "        {\n",
      "            \"accounts\": 200,\n",
      "            \"name\": \"Doe\",\n",
      "            \"balance\": 345.67\n",
      "        }\n",
      "    ]\n",
      "}\n"
     ]
    }
   ],
   "source": [
    "with open('accounts.json', 'r') as accounts:\n",
    "    print(json.dumps(json.load(accounts), indent=4))"
   ]
  },
  {
   "cell_type": "code",
   "execution_count": null,
   "id": "1bfc84d0-b5c6-4ac8-915a-04dd68e6d54f",
   "metadata": {},
   "outputs": [],
   "source": []
  },
  {
   "cell_type": "markdown",
   "id": "271111fb-3edf-4624-bbbd-cb304b2f7d09",
   "metadata": {},
   "source": [
    "## Dasha Davis Self Check 9.5, pg. 329"
   ]
  },
  {
   "cell_type": "code",
   "execution_count": 35,
   "id": "1c088fb6-83db-478f-9e9c-f994e93005dd",
   "metadata": {},
   "outputs": [
    {
     "name": "stdout",
     "output_type": "stream",
     "text": [
      "{\n",
      "    \"gradebook\": [\n",
      "        {\n",
      "            \"student_id\": 1,\n",
      "            \"name\": \"Red\",\n",
      "            \"grade\": \"A\"\n",
      "        },\n",
      "        {\n",
      "            \"student_id\": 2,\n",
      "            \"name\": \"Green\",\n",
      "            \"grade\": \"B\"\n",
      "        },\n",
      "        {\n",
      "            \"student_id\": 3,\n",
      "            \"name\": \"White\",\n",
      "            \"grade\": \"A\"\n",
      "        }\n",
      "    ]\n",
      "}\n"
     ]
    }
   ],
   "source": [
    "import json\n",
    "\n",
    "grades_dict = {'gradebook':\n",
    "    [{'student_id': 1, 'name': 'Red', 'grade': 'A'}, \n",
    "     {'student_id': 2, 'name': 'Green', 'grade': 'B'}, \n",
    "     {'student_id': 3, 'name': 'White', 'grade': 'A'}]}\n",
    "      \n",
    "with open('grades.json', 'w') as grades:\n",
    "      json.dump(grades_dict, grades)\n",
    "      \n",
    "with open('grades.json', 'r') as grades:\n",
    "      print(json.dumps(json.load(grades), indent=4))\n",
    "      "
   ]
  },
  {
   "cell_type": "code",
   "execution_count": null,
   "id": "98ec0c98-5b28-4f9c-8827-c9711f18bff9",
   "metadata": {},
   "outputs": [],
   "source": []
  },
  {
   "cell_type": "markdown",
   "id": "442a7b91-9727-4920-99bb-6852ee09005c",
   "metadata": {},
   "source": [
    "## Dasha Davis 9.8.1, p. 332 - Division by Zero and Invalid Input"
   ]
  },
  {
   "cell_type": "code",
   "execution_count": 36,
   "id": "34089006-a8b8-4e6c-a011-a872ed55119c",
   "metadata": {},
   "outputs": [
    {
     "ename": "ZeroDivisionError",
     "evalue": "division by zero",
     "output_type": "error",
     "traceback": [
      "\u001b[1;31m---------------------------------------------------------------------------\u001b[0m",
      "\u001b[1;31mZeroDivisionError\u001b[0m                         Traceback (most recent call last)",
      "Input \u001b[1;32mIn [36]\u001b[0m, in \u001b[0;36m<cell line: 1>\u001b[1;34m()\u001b[0m\n\u001b[1;32m----> 1\u001b[0m \u001b[38;5;241;43m10\u001b[39;49m\u001b[38;5;241;43m/\u001b[39;49m\u001b[38;5;241;43m0\u001b[39;49m\n",
      "\u001b[1;31mZeroDivisionError\u001b[0m: division by zero"
     ]
    }
   ],
   "source": [
    "10/0"
   ]
  },
  {
   "cell_type": "code",
   "execution_count": 37,
   "id": "895e0c72-b262-43d8-9697-b4cd69d8f9e1",
   "metadata": {},
   "outputs": [],
   "source": [
    "#dividebyzero.py"
   ]
  },
  {
   "cell_type": "code",
   "execution_count": 39,
   "id": "0f36710c-c91e-4d46-8a4d-171530326e71",
   "metadata": {},
   "outputs": [],
   "source": [
    "#Simple exception handling example."
   ]
  },
  {
   "cell_type": "code",
   "execution_count": 45,
   "id": "e7110a59-f48e-43b4-8fe8-6f3b3793d23e",
   "metadata": {},
   "outputs": [
    {
     "name": "stdin",
     "output_type": "stream",
     "text": [
      "Enter numerator:  100\n",
      "Enter denominator:  0\n"
     ]
    },
    {
     "name": "stdout",
     "output_type": "stream",
     "text": [
      "Attempted to divide by zero\n",
      "\n"
     ]
    },
    {
     "name": "stdin",
     "output_type": "stream",
     "text": [
      "Enter numerator:  100\n",
      "Enter denominator:  hello\n"
     ]
    },
    {
     "name": "stdout",
     "output_type": "stream",
     "text": [
      "You must enter two integers\n",
      "\n"
     ]
    },
    {
     "name": "stdin",
     "output_type": "stream",
     "text": [
      "Enter numerator:  100\n",
      "Enter denominator:  7\n"
     ]
    },
    {
     "name": "stdout",
     "output_type": "stream",
     "text": [
      "100.000 / 7.000 = 14.286\n"
     ]
    }
   ],
   "source": [
    "while True:\n",
    "    #attempot to convert and divide values\n",
    "    try:\n",
    "        number1 = int(input('Enter numerator: '))\n",
    "        number2 = int(input('Enter denominator: '))\n",
    "        result = number1 / number2\n",
    "    except ValueError: #tried to convert non-numeric value to int\n",
    "        print('You must enter two integers\\n')\n",
    "    except ZeroDivisionError: #denominator was 0\n",
    "        print('Attempted to divide by zero\\n')\n",
    "    else: #executes only if no exceptions occur\n",
    "        print(f'{number1:.3f} / {number2:.3f} = {result:.3f}')\n",
    "        break #terminate the loop"
   ]
  },
  {
   "cell_type": "code",
   "execution_count": null,
   "id": "166f2065-ffd5-4648-9fbe-f07f0bd267fe",
   "metadata": {},
   "outputs": [],
   "source": []
  },
  {
   "cell_type": "markdown",
   "id": "8c90934a-7f70-47b4-b739-2adf33b380af",
   "metadata": {},
   "source": [
    "## Dasha Davis Self Check 9.82, pg. 335"
   ]
  },
  {
   "cell_type": "code",
   "execution_count": 47,
   "id": "a62a3caf-db55-4b70-bd8f-1970b9b6caf3",
   "metadata": {},
   "outputs": [],
   "source": [
    "def try_it(value):\n",
    "    try:\n",
    "        x = int(value)\n",
    "    except ValueError:\n",
    "        print(f'{value} could not be converted to an integer')\n",
    "    else:\n",
    "        print(f'int({value}) is {x}')"
   ]
  },
  {
   "cell_type": "code",
   "execution_count": 48,
   "id": "4470076e-ddc0-46be-8dac-91b08dba9551",
   "metadata": {},
   "outputs": [
    {
     "name": "stdout",
     "output_type": "stream",
     "text": [
      "int(10.7) is 10\n"
     ]
    }
   ],
   "source": [
    "try_it(10.7)"
   ]
  },
  {
   "cell_type": "code",
   "execution_count": 49,
   "id": "b5730390-ae49-42c5-a25b-633825634334",
   "metadata": {},
   "outputs": [
    {
     "name": "stdout",
     "output_type": "stream",
     "text": [
      "Python could not be converted to an integer\n"
     ]
    }
   ],
   "source": [
    "try_it('Python')"
   ]
  },
  {
   "cell_type": "code",
   "execution_count": null,
   "id": "c5873a05-92de-4122-9837-2372315a578c",
   "metadata": {},
   "outputs": [],
   "source": []
  },
  {
   "cell_type": "code",
   "execution_count": null,
   "id": "d582d5f1-ef29-4cda-851f-8b7f4c9556a7",
   "metadata": {},
   "outputs": [],
   "source": [
    "#9.9 Finally Clause"
   ]
  },
  {
   "cell_type": "code",
   "execution_count": 50,
   "id": "f1318224-eb85-43ea-89e7-bffd91d447ee",
   "metadata": {},
   "outputs": [
    {
     "name": "stdout",
     "output_type": "stream",
     "text": [
      "try suite with no exceptions raised\n",
      "else executes because no exceptions in the try suite\n",
      "finally always executes\n"
     ]
    }
   ],
   "source": [
    "try:\n",
    "    print('try suite with no exceptions raised')\n",
    "except:\n",
    "    print('this will not execute')\n",
    "else:\n",
    "    print('else executes because no exceptions in the try suite')\n",
    "finally:\n",
    "    print('finally always executes')"
   ]
  },
  {
   "cell_type": "code",
   "execution_count": null,
   "id": "7ea46469-a800-4643-88d8-f8accecc8e44",
   "metadata": {},
   "outputs": [],
   "source": []
  },
  {
   "cell_type": "code",
   "execution_count": 51,
   "id": "ba057a04-5713-4659-8719-d8eafcba1021",
   "metadata": {},
   "outputs": [
    {
     "name": "stdout",
     "output_type": "stream",
     "text": [
      "try suite that raises an exception\n",
      "a ValueError occurred\n",
      "finally always executes\n"
     ]
    }
   ],
   "source": [
    "try:\n",
    "    print('try suite that raises an exception')\n",
    "    int('hello')\n",
    "    print('this will not execute')\n",
    "except ValueError:\n",
    "    print('a ValueError occurred')\n",
    "else: \n",
    "    print('else will not execute because an exception occurred')\n",
    "finally:\n",
    "    print('finally always executes')"
   ]
  },
  {
   "cell_type": "code",
   "execution_count": null,
   "id": "571511fb-25aa-4856-bf3e-ca779e66805a",
   "metadata": {},
   "outputs": [],
   "source": []
  },
  {
   "cell_type": "code",
   "execution_count": 52,
   "id": "ccb246f0-ad0e-4f44-bc21-69f369ca50c8",
   "metadata": {},
   "outputs": [],
   "source": [
    "#to catch exceptions like FileNotFoundError - wrap the with statement in a try suite"
   ]
  },
  {
   "cell_type": "code",
   "execution_count": 53,
   "id": "8d0bb102-6c67-41d2-80ec-787e043bb286",
   "metadata": {},
   "outputs": [
    {
     "name": "stdout",
     "output_type": "stream",
     "text": [
      "The file name you specified does not exist\n"
     ]
    }
   ],
   "source": [
    "try:\n",
    "    with open('gradez.txt', 'r') as accounts:\n",
    "        print(f'{\"ID\":<3}{\"Name\":<7}{\"Grade\"}')\n",
    "        for record in accounts:\n",
    "            student_id, name, grade = record.split()\n",
    "            print(f'{student_id:<3}{name:<7}{grade}')\n",
    "except FileNotFoundError:\n",
    "    print('The file name you specified does not exist')"
   ]
  },
  {
   "cell_type": "code",
   "execution_count": null,
   "id": "817e00c6-9b13-474d-9b12-86616ea1c739",
   "metadata": {},
   "outputs": [],
   "source": []
  },
  {
   "cell_type": "markdown",
   "id": "641e1e30-3ace-41ab-abeb-d8aef97d44dc",
   "metadata": {},
   "source": [
    "## Self Check 9.9, p. 338"
   ]
  },
  {
   "cell_type": "code",
   "execution_count": 60,
   "id": "aadd6de8-b7a4-4d1b-aead-7fb5f957761e",
   "metadata": {},
   "outputs": [],
   "source": [
    "def try_it(value):\n",
    "    try:\n",
    "        x = int(value)\n",
    "    except ValueError:\n",
    "        print(f'{value} could not be converted to an integer')\n",
    "    else:\n",
    "        print(f'int({value}) is {x}')\n",
    "    finally:\n",
    "        print('finally executed')\n",
    "        \n"
   ]
  },
  {
   "cell_type": "code",
   "execution_count": 61,
   "id": "f6f53ca4-0216-42c2-a6fa-a01beac630c7",
   "metadata": {},
   "outputs": [
    {
     "name": "stdout",
     "output_type": "stream",
     "text": [
      "int(10.7) is 10\n",
      "finally executed\n"
     ]
    }
   ],
   "source": [
    "try_it(10.7)"
   ]
  },
  {
   "cell_type": "code",
   "execution_count": 62,
   "id": "56c78fe4-0a2e-43e6-b6fb-2b7f3d0cdb12",
   "metadata": {},
   "outputs": [
    {
     "name": "stdout",
     "output_type": "stream",
     "text": [
      "Python could not be converted to an integer\n",
      "finally executed\n"
     ]
    }
   ],
   "source": [
    "try_it('Python')"
   ]
  },
  {
   "cell_type": "code",
   "execution_count": null,
   "id": "ba5de8f1-d629-499f-8848-67d206a367b6",
   "metadata": {},
   "outputs": [],
   "source": []
  },
  {
   "cell_type": "code",
   "execution_count": 63,
   "id": "5cca916e-d89c-480e-98b1-7494769b0e13",
   "metadata": {},
   "outputs": [],
   "source": [
    "#9.11, p. 339"
   ]
  },
  {
   "cell_type": "code",
   "execution_count": 64,
   "id": "f918755c-b248-4f3f-a53d-5ed0a4cf9ab0",
   "metadata": {},
   "outputs": [
    {
     "ename": "Exception",
     "evalue": "An exception occurred",
     "output_type": "error",
     "traceback": [
      "\u001b[1;31m---------------------------------------------------------------------------\u001b[0m",
      "\u001b[1;31mException\u001b[0m                                 Traceback (most recent call last)",
      "Input \u001b[1;32mIn [64]\u001b[0m, in \u001b[0;36m<cell line: 7>\u001b[1;34m()\u001b[0m\n\u001b[0;32m      4\u001b[0m \u001b[38;5;28;01mdef\u001b[39;00m \u001b[38;5;21mfunction2\u001b[39m():\n\u001b[0;32m      5\u001b[0m     \u001b[38;5;28;01mraise\u001b[39;00m \u001b[38;5;167;01mException\u001b[39;00m(\u001b[38;5;124m'\u001b[39m\u001b[38;5;124mAn exception occurred\u001b[39m\u001b[38;5;124m'\u001b[39m)\n\u001b[1;32m----> 7\u001b[0m \u001b[43mfunction1\u001b[49m\u001b[43m(\u001b[49m\u001b[43m)\u001b[49m\n",
      "Input \u001b[1;32mIn [64]\u001b[0m, in \u001b[0;36mfunction1\u001b[1;34m()\u001b[0m\n\u001b[0;32m      1\u001b[0m \u001b[38;5;28;01mdef\u001b[39;00m \u001b[38;5;21mfunction1\u001b[39m():\n\u001b[1;32m----> 2\u001b[0m     \u001b[43mfunction2\u001b[49m\u001b[43m(\u001b[49m\u001b[43m)\u001b[49m\n",
      "Input \u001b[1;32mIn [64]\u001b[0m, in \u001b[0;36mfunction2\u001b[1;34m()\u001b[0m\n\u001b[0;32m      4\u001b[0m \u001b[38;5;28;01mdef\u001b[39;00m \u001b[38;5;21mfunction2\u001b[39m():\n\u001b[1;32m----> 5\u001b[0m     \u001b[38;5;28;01mraise\u001b[39;00m \u001b[38;5;167;01mException\u001b[39;00m(\u001b[38;5;124m'\u001b[39m\u001b[38;5;124mAn exception occurred\u001b[39m\u001b[38;5;124m'\u001b[39m)\n",
      "\u001b[1;31mException\u001b[0m: An exception occurred"
     ]
    }
   ],
   "source": [
    "def function1():\n",
    "    function2()\n",
    "    \n",
    "def function2():\n",
    "    raise Exception('An exception occurred')\n",
    "    \n",
    "function1()"
   ]
  },
  {
   "cell_type": "code",
   "execution_count": null,
   "id": "a37e0ebc-0b9b-4978-aa91-b59b5085982c",
   "metadata": {},
   "outputs": [],
   "source": []
  },
  {
   "cell_type": "markdown",
   "id": "b001f35e-cb13-4c4c-b5d3-aaad223492e9",
   "metadata": {},
   "source": [
    "## Dasha Davis Writing to a CSV File, 9.12.1, pg. 342"
   ]
  },
  {
   "cell_type": "code",
   "execution_count": 68,
   "id": "85a027de-0060-4c5e-aec8-eb1659b7ed63",
   "metadata": {},
   "outputs": [],
   "source": [
    "import csv"
   ]
  },
  {
   "cell_type": "code",
   "execution_count": 69,
   "id": "61a67476-2920-46d8-bd50-67d8c76ff0c1",
   "metadata": {},
   "outputs": [
    {
     "ename": "NameError",
     "evalue": "name 'writerow' is not defined",
     "output_type": "error",
     "traceback": [
      "\u001b[1;31m---------------------------------------------------------------------------\u001b[0m",
      "\u001b[1;31mNameError\u001b[0m                                 Traceback (most recent call last)",
      "Input \u001b[1;32mIn [69]\u001b[0m, in \u001b[0;36m<cell line: 1>\u001b[1;34m()\u001b[0m\n\u001b[0;32m      1\u001b[0m \u001b[38;5;28;01mwith\u001b[39;00m \u001b[38;5;28mopen\u001b[39m(\u001b[38;5;124m'\u001b[39m\u001b[38;5;124maccounts.csv\u001b[39m\u001b[38;5;124m'\u001b[39m, mode\u001b[38;5;241m=\u001b[39m\u001b[38;5;124m'\u001b[39m\u001b[38;5;124mw\u001b[39m\u001b[38;5;124m'\u001b[39m, newline\u001b[38;5;241m=\u001b[39m\u001b[38;5;124m'\u001b[39m\u001b[38;5;124m'\u001b[39m) \u001b[38;5;28;01mas\u001b[39;00m accounts:\n\u001b[0;32m      2\u001b[0m     writer \u001b[38;5;241m=\u001b[39m csv\u001b[38;5;241m.\u001b[39mwriter(accounts)\n\u001b[1;32m----> 3\u001b[0m     writer \u001b[38;5;241m=\u001b[39m \u001b[43mwriterow\u001b[49m([\u001b[38;5;241m100\u001b[39m, \u001b[38;5;124m'\u001b[39m\u001b[38;5;124mJones\u001b[39m\u001b[38;5;124m'\u001b[39m, \u001b[38;5;241m24.98\u001b[39m])\n\u001b[0;32m      4\u001b[0m     writer \u001b[38;5;241m=\u001b[39m writerow([\u001b[38;5;241m200\u001b[39m, \u001b[38;5;124m'\u001b[39m\u001b[38;5;124mDoe\u001b[39m\u001b[38;5;124m'\u001b[39m, \u001b[38;5;241m345.67\u001b[39m])\n\u001b[0;32m      5\u001b[0m     writer \u001b[38;5;241m=\u001b[39m writerow([\u001b[38;5;241m300\u001b[39m, \u001b[38;5;124m'\u001b[39m\u001b[38;5;124mWhite\u001b[39m\u001b[38;5;124m'\u001b[39m, \u001b[38;5;241m0.00\u001b[39m])\n",
      "\u001b[1;31mNameError\u001b[0m: name 'writerow' is not defined"
     ]
    }
   ],
   "source": [
    "with open('accounts.csv', mode='w', newline='') as accounts:\n",
    "    writer = csv.writer(accounts)\n",
    "    writer = writerow([100, 'Jones', 24.98])\n",
    "    writer = writerow([200, 'Doe', 345.67])\n",
    "    writer = writerow([300, 'White', 0.00])\n",
    "    writer = writerow([400, 'Stone', -42.16])\n",
    "    writer = writerow([500, 'Rich', 224.62])"
   ]
  },
  {
   "cell_type": "code",
   "execution_count": null,
   "id": "d4af4dd7-175e-42a7-b520-e5bbab967800",
   "metadata": {},
   "outputs": [],
   "source": [
    "#I see what I did - added equals sign for all rows instead of a dot for the last 5 rows."
   ]
  },
  {
   "cell_type": "code",
   "execution_count": 70,
   "id": "f62e2843-4e3c-4645-a589-df69228c5334",
   "metadata": {},
   "outputs": [],
   "source": [
    "with open('accounts.csv', mode='w', newline='') as accounts:\n",
    "    writer = csv.writer(accounts)\n",
    "    writer.writerow([100, 'Jones', 24.98])\n",
    "    writer.writerow([200, 'Doe', 345.67])\n",
    "    writer.writerow([300, 'White', 0.00])\n",
    "    writer.writerow([400, 'Stone', -42.16])\n",
    "    writer.writerow([500, 'Rich', 224.62])"
   ]
  },
  {
   "cell_type": "code",
   "execution_count": null,
   "id": "27e751bf-e4b0-42e8-9fda-121962096f84",
   "metadata": {},
   "outputs": [],
   "source": []
  },
  {
   "cell_type": "code",
   "execution_count": 71,
   "id": "7473aa18-d7ca-4a2e-bfef-ae2b946a2f5f",
   "metadata": {},
   "outputs": [
    {
     "name": "stdout",
     "output_type": "stream",
     "text": [
      "Account   Name         Balance\n",
      "100       Jones          24.98\n",
      "200       Doe           345.67\n",
      "300       White            0.0\n",
      "400       Stone         -42.16\n",
      "500       Rich          224.62\n"
     ]
    }
   ],
   "source": [
    "with open('accounts.csv', 'r', newline='') as accounts:\n",
    "    print(f'{\"Account\":<10}{\"Name\":<10}{\"Balance\":>10}')\n",
    "    reader = csv.reader(accounts)\n",
    "    for record in reader:\n",
    "        account, name, balance = record\n",
    "        print(f'{account:<10}{name:<10}{balance:>10}')"
   ]
  },
  {
   "cell_type": "code",
   "execution_count": null,
   "id": "97485ee8-4caa-4e11-8aa1-c66a27885167",
   "metadata": {},
   "outputs": [],
   "source": []
  },
  {
   "cell_type": "markdown",
   "id": "650a8158-e5ff-4bb0-a85a-0a16fb47eea0",
   "metadata": {},
   "source": [
    "# 9.12.1 Self-Check, pg. 344"
   ]
  },
  {
   "cell_type": "code",
   "execution_count": 72,
   "id": "6615dd87-36fa-4e13-8276-01a3c338f185",
   "metadata": {},
   "outputs": [],
   "source": [
    "import csv"
   ]
  },
  {
   "cell_type": "code",
   "execution_count": 77,
   "id": "6b13f743-bb43-4c92-acdb-e0e248767766",
   "metadata": {},
   "outputs": [
    {
     "name": "stdout",
     "output_type": "stream",
     "text": [
      "ID  Name   Grades\n",
      "1   Red    A\n",
      "2   Green  B\n",
      "3   White  A\n"
     ]
    }
   ],
   "source": [
    "with open('grades.csv', mode='w', newline='') as grades:\n",
    "    writer = csv.writer(grades)\n",
    "    writer.writerow([1, 'Red', 'A'])\n",
    "    writer.writerow([2, 'Green', 'B'])\n",
    "    writer.writerow([3, 'White', 'A'])\n",
    "    \n",
    "with open('grades.csv', 'r', newline='') as grades:\n",
    "    print(f'{\"ID\":<4}{\"Name\":<7}{\"Grades\"}')\n",
    "    reader = csv.reader(grades)\n",
    "    for record in reader:\n",
    "        student_id, name, grade = record\n",
    "        print(f'{student_id:<4}{name:<7}{grade}')\n",
    "    "
   ]
  },
  {
   "cell_type": "code",
   "execution_count": null,
   "id": "0f43c0e6-7aba-4eb0-a04c-9eb63933a270",
   "metadata": {},
   "outputs": [],
   "source": []
  },
  {
   "cell_type": "markdown",
   "id": "323c172e-234d-4d63-9c41-eda278da5a55",
   "metadata": {},
   "source": [
    "## 9.12.2 Reading CSV Files into Pandas DataFrames - Working with Locally Stored CSV Files"
   ]
  },
  {
   "cell_type": "code",
   "execution_count": 81,
   "id": "ee18b3fd-48ab-4dfb-8f09-7ab9c1e16522",
   "metadata": {},
   "outputs": [],
   "source": [
    "import pandas as pd"
   ]
  },
  {
   "cell_type": "code",
   "execution_count": 82,
   "id": "6f110feb-9941-47af-ac60-36ad2a8f9912",
   "metadata": {},
   "outputs": [
    {
     "data": {
      "text/html": [
       "<div>\n",
       "<style scoped>\n",
       "    .dataframe tbody tr th:only-of-type {\n",
       "        vertical-align: middle;\n",
       "    }\n",
       "\n",
       "    .dataframe tbody tr th {\n",
       "        vertical-align: top;\n",
       "    }\n",
       "\n",
       "    .dataframe thead th {\n",
       "        text-align: right;\n",
       "    }\n",
       "</style>\n",
       "<table border=\"1\" class=\"dataframe\">\n",
       "  <thead>\n",
       "    <tr style=\"text-align: right;\">\n",
       "      <th></th>\n",
       "      <th>account</th>\n",
       "      <th>name</th>\n",
       "      <th>balance</th>\n",
       "    </tr>\n",
       "  </thead>\n",
       "  <tbody>\n",
       "    <tr>\n",
       "      <th>0</th>\n",
       "      <td>100</td>\n",
       "      <td>Jones</td>\n",
       "      <td>24.98</td>\n",
       "    </tr>\n",
       "    <tr>\n",
       "      <th>1</th>\n",
       "      <td>200</td>\n",
       "      <td>Doe</td>\n",
       "      <td>345.67</td>\n",
       "    </tr>\n",
       "    <tr>\n",
       "      <th>2</th>\n",
       "      <td>300</td>\n",
       "      <td>White</td>\n",
       "      <td>0.00</td>\n",
       "    </tr>\n",
       "    <tr>\n",
       "      <th>3</th>\n",
       "      <td>400</td>\n",
       "      <td>Stone</td>\n",
       "      <td>-42.16</td>\n",
       "    </tr>\n",
       "    <tr>\n",
       "      <th>4</th>\n",
       "      <td>500</td>\n",
       "      <td>Rich</td>\n",
       "      <td>224.62</td>\n",
       "    </tr>\n",
       "  </tbody>\n",
       "</table>\n",
       "</div>"
      ],
      "text/plain": [
       "   account   name  balance\n",
       "0      100  Jones    24.98\n",
       "1      200    Doe   345.67\n",
       "2      300  White     0.00\n",
       "3      400  Stone   -42.16\n",
       "4      500   Rich   224.62"
      ]
     },
     "execution_count": 82,
     "metadata": {},
     "output_type": "execute_result"
    }
   ],
   "source": [
    "df = pd.read_csv('accounts.csv',\n",
    "                 names=['account', 'name', 'balance'])\n",
    "\n",
    "df"
   ]
  },
  {
   "cell_type": "code",
   "execution_count": 83,
   "id": "081a4bbf-bf0b-4fd5-975a-498172fea44c",
   "metadata": {},
   "outputs": [],
   "source": [
    "#to save a dataframe to a file using CSV format, call DataFrame method to_csv:"
   ]
  },
  {
   "cell_type": "code",
   "execution_count": 85,
   "id": "8913228a-7e39-4400-98ea-ebbfe729e922",
   "metadata": {},
   "outputs": [],
   "source": [
    "df.to_csv('accounts_from_dataframe.csv', index=False)"
   ]
  },
  {
   "cell_type": "code",
   "execution_count": null,
   "id": "606c4a02-8441-4f92-9258-0cc80d049831",
   "metadata": {},
   "outputs": [],
   "source": []
  },
  {
   "cell_type": "markdown",
   "id": "26d56ee5-5158-4150-95f8-37ea2434fdfe",
   "metadata": {},
   "source": [
    "## 9.12.3"
   ]
  },
  {
   "cell_type": "code",
   "execution_count": 86,
   "id": "2911b222-72fd-4101-85f9-e38125292ef8",
   "metadata": {},
   "outputs": [
    {
     "data": {
      "text/html": [
       "<div>\n",
       "<style scoped>\n",
       "    .dataframe tbody tr th:only-of-type {\n",
       "        vertical-align: middle;\n",
       "    }\n",
       "\n",
       "    .dataframe tbody tr th {\n",
       "        vertical-align: top;\n",
       "    }\n",
       "\n",
       "    .dataframe thead th {\n",
       "        text-align: right;\n",
       "    }\n",
       "</style>\n",
       "<table border=\"1\" class=\"dataframe\">\n",
       "  <thead>\n",
       "    <tr style=\"text-align: right;\">\n",
       "      <th></th>\n",
       "      <th>Unnamed: 0</th>\n",
       "      <th>survived</th>\n",
       "      <th>sex</th>\n",
       "      <th>age</th>\n",
       "      <th>passengerClass</th>\n",
       "    </tr>\n",
       "  </thead>\n",
       "  <tbody>\n",
       "    <tr>\n",
       "      <th>0</th>\n",
       "      <td>Allen, Miss. Elisabeth Walton</td>\n",
       "      <td>yes</td>\n",
       "      <td>female</td>\n",
       "      <td>29.00</td>\n",
       "      <td>1st</td>\n",
       "    </tr>\n",
       "    <tr>\n",
       "      <th>1</th>\n",
       "      <td>Allison, Master. Hudson Trevor</td>\n",
       "      <td>yes</td>\n",
       "      <td>male</td>\n",
       "      <td>0.92</td>\n",
       "      <td>1st</td>\n",
       "    </tr>\n",
       "    <tr>\n",
       "      <th>2</th>\n",
       "      <td>Allison, Miss. Helen Loraine</td>\n",
       "      <td>no</td>\n",
       "      <td>female</td>\n",
       "      <td>2.00</td>\n",
       "      <td>1st</td>\n",
       "    </tr>\n",
       "    <tr>\n",
       "      <th>3</th>\n",
       "      <td>Allison, Mr. Hudson Joshua Crei</td>\n",
       "      <td>no</td>\n",
       "      <td>male</td>\n",
       "      <td>30.00</td>\n",
       "      <td>1st</td>\n",
       "    </tr>\n",
       "    <tr>\n",
       "      <th>4</th>\n",
       "      <td>Allison, Mrs. Hudson J C (Bessi</td>\n",
       "      <td>no</td>\n",
       "      <td>female</td>\n",
       "      <td>25.00</td>\n",
       "      <td>1st</td>\n",
       "    </tr>\n",
       "  </tbody>\n",
       "</table>\n",
       "</div>"
      ],
      "text/plain": [
       "                        Unnamed: 0 survived     sex    age passengerClass\n",
       "0    Allen, Miss. Elisabeth Walton      yes  female  29.00            1st\n",
       "1   Allison, Master. Hudson Trevor      yes    male   0.92            1st\n",
       "2     Allison, Miss. Helen Loraine       no  female   2.00            1st\n",
       "3  Allison, Mr. Hudson Joshua Crei       no    male  30.00            1st\n",
       "4  Allison, Mrs. Hudson J C (Bessi       no  female  25.00            1st"
      ]
     },
     "execution_count": 86,
     "metadata": {},
     "output_type": "execute_result"
    }
   ],
   "source": [
    "import pandas as pd\n",
    "\n",
    "titanic = pd.read_csv('https://vincentarelbundock.github.io/' +\n",
    "    'Rdatasets/csv/carData/TitanicSurvival.csv')\n",
    "\n",
    "pd.set_option('display.precision', 2) # format for floating point values\n",
    "\n",
    "titanic.head()"
   ]
  },
  {
   "cell_type": "code",
   "execution_count": 87,
   "id": "7602f48e-849f-4ca6-9608-d80e1e61f1ed",
   "metadata": {},
   "outputs": [
    {
     "data": {
      "text/html": [
       "<div>\n",
       "<style scoped>\n",
       "    .dataframe tbody tr th:only-of-type {\n",
       "        vertical-align: middle;\n",
       "    }\n",
       "\n",
       "    .dataframe tbody tr th {\n",
       "        vertical-align: top;\n",
       "    }\n",
       "\n",
       "    .dataframe thead th {\n",
       "        text-align: right;\n",
       "    }\n",
       "</style>\n",
       "<table border=\"1\" class=\"dataframe\">\n",
       "  <thead>\n",
       "    <tr style=\"text-align: right;\">\n",
       "      <th></th>\n",
       "      <th>Unnamed: 0</th>\n",
       "      <th>survived</th>\n",
       "      <th>sex</th>\n",
       "      <th>age</th>\n",
       "      <th>passengerClass</th>\n",
       "    </tr>\n",
       "  </thead>\n",
       "  <tbody>\n",
       "    <tr>\n",
       "      <th>1304</th>\n",
       "      <td>Zabour, Miss. Hileni</td>\n",
       "      <td>no</td>\n",
       "      <td>female</td>\n",
       "      <td>14.5</td>\n",
       "      <td>3rd</td>\n",
       "    </tr>\n",
       "    <tr>\n",
       "      <th>1305</th>\n",
       "      <td>Zabour, Miss. Thamine</td>\n",
       "      <td>no</td>\n",
       "      <td>female</td>\n",
       "      <td>NaN</td>\n",
       "      <td>3rd</td>\n",
       "    </tr>\n",
       "    <tr>\n",
       "      <th>1306</th>\n",
       "      <td>Zakarian, Mr. Mapriededer</td>\n",
       "      <td>no</td>\n",
       "      <td>male</td>\n",
       "      <td>26.5</td>\n",
       "      <td>3rd</td>\n",
       "    </tr>\n",
       "    <tr>\n",
       "      <th>1307</th>\n",
       "      <td>Zakarian, Mr. Ortin</td>\n",
       "      <td>no</td>\n",
       "      <td>male</td>\n",
       "      <td>27.0</td>\n",
       "      <td>3rd</td>\n",
       "    </tr>\n",
       "    <tr>\n",
       "      <th>1308</th>\n",
       "      <td>Zimmerman, Mr. Leo</td>\n",
       "      <td>no</td>\n",
       "      <td>male</td>\n",
       "      <td>29.0</td>\n",
       "      <td>3rd</td>\n",
       "    </tr>\n",
       "  </tbody>\n",
       "</table>\n",
       "</div>"
      ],
      "text/plain": [
       "                     Unnamed: 0 survived     sex   age passengerClass\n",
       "1304       Zabour, Miss. Hileni       no  female  14.5            3rd\n",
       "1305      Zabour, Miss. Thamine       no  female   NaN            3rd\n",
       "1306  Zakarian, Mr. Mapriededer       no    male  26.5            3rd\n",
       "1307        Zakarian, Mr. Ortin       no    male  27.0            3rd\n",
       "1308         Zimmerman, Mr. Leo       no    male  29.0            3rd"
      ]
     },
     "execution_count": 87,
     "metadata": {},
     "output_type": "execute_result"
    }
   ],
   "source": [
    "titanic.tail()"
   ]
  },
  {
   "cell_type": "code",
   "execution_count": 88,
   "id": "2571e70a-65d1-4938-9869-da7d50f4df29",
   "metadata": {},
   "outputs": [],
   "source": [
    "#to change column names"
   ]
  },
  {
   "cell_type": "code",
   "execution_count": 89,
   "id": "b501148a-96fe-4568-8594-8b62ccdea38c",
   "metadata": {},
   "outputs": [
    {
     "data": {
      "text/html": [
       "<div>\n",
       "<style scoped>\n",
       "    .dataframe tbody tr th:only-of-type {\n",
       "        vertical-align: middle;\n",
       "    }\n",
       "\n",
       "    .dataframe tbody tr th {\n",
       "        vertical-align: top;\n",
       "    }\n",
       "\n",
       "    .dataframe thead th {\n",
       "        text-align: right;\n",
       "    }\n",
       "</style>\n",
       "<table border=\"1\" class=\"dataframe\">\n",
       "  <thead>\n",
       "    <tr style=\"text-align: right;\">\n",
       "      <th></th>\n",
       "      <th>name</th>\n",
       "      <th>survived</th>\n",
       "      <th>sex</th>\n",
       "      <th>age</th>\n",
       "      <th>class</th>\n",
       "    </tr>\n",
       "  </thead>\n",
       "  <tbody>\n",
       "    <tr>\n",
       "      <th>0</th>\n",
       "      <td>Allen, Miss. Elisabeth Walton</td>\n",
       "      <td>yes</td>\n",
       "      <td>female</td>\n",
       "      <td>29.00</td>\n",
       "      <td>1st</td>\n",
       "    </tr>\n",
       "    <tr>\n",
       "      <th>1</th>\n",
       "      <td>Allison, Master. Hudson Trevor</td>\n",
       "      <td>yes</td>\n",
       "      <td>male</td>\n",
       "      <td>0.92</td>\n",
       "      <td>1st</td>\n",
       "    </tr>\n",
       "    <tr>\n",
       "      <th>2</th>\n",
       "      <td>Allison, Miss. Helen Loraine</td>\n",
       "      <td>no</td>\n",
       "      <td>female</td>\n",
       "      <td>2.00</td>\n",
       "      <td>1st</td>\n",
       "    </tr>\n",
       "    <tr>\n",
       "      <th>3</th>\n",
       "      <td>Allison, Mr. Hudson Joshua Crei</td>\n",
       "      <td>no</td>\n",
       "      <td>male</td>\n",
       "      <td>30.00</td>\n",
       "      <td>1st</td>\n",
       "    </tr>\n",
       "    <tr>\n",
       "      <th>4</th>\n",
       "      <td>Allison, Mrs. Hudson J C (Bessi</td>\n",
       "      <td>no</td>\n",
       "      <td>female</td>\n",
       "      <td>25.00</td>\n",
       "      <td>1st</td>\n",
       "    </tr>\n",
       "  </tbody>\n",
       "</table>\n",
       "</div>"
      ],
      "text/plain": [
       "                              name survived     sex    age class\n",
       "0    Allen, Miss. Elisabeth Walton      yes  female  29.00   1st\n",
       "1   Allison, Master. Hudson Trevor      yes    male   0.92   1st\n",
       "2     Allison, Miss. Helen Loraine       no  female   2.00   1st\n",
       "3  Allison, Mr. Hudson Joshua Crei       no    male  30.00   1st\n",
       "4  Allison, Mrs. Hudson J C (Bessi       no  female  25.00   1st"
      ]
     },
     "execution_count": 89,
     "metadata": {},
     "output_type": "execute_result"
    }
   ],
   "source": [
    "titanic.columns = ['name', 'survived', 'sex', 'age', 'class']\n",
    "\n",
    "titanic.head()"
   ]
  },
  {
   "cell_type": "code",
   "execution_count": 90,
   "id": "1ca7c614-8acb-400f-bf08-6d56c8bb47e1",
   "metadata": {},
   "outputs": [],
   "source": [
    "#9.12.4 - Using pandas for descriptive analysis"
   ]
  },
  {
   "cell_type": "code",
   "execution_count": 91,
   "id": "032ed32a-2741-48f1-93be-51d4fa3abb61",
   "metadata": {},
   "outputs": [
    {
     "data": {
      "text/html": [
       "<div>\n",
       "<style scoped>\n",
       "    .dataframe tbody tr th:only-of-type {\n",
       "        vertical-align: middle;\n",
       "    }\n",
       "\n",
       "    .dataframe tbody tr th {\n",
       "        vertical-align: top;\n",
       "    }\n",
       "\n",
       "    .dataframe thead th {\n",
       "        text-align: right;\n",
       "    }\n",
       "</style>\n",
       "<table border=\"1\" class=\"dataframe\">\n",
       "  <thead>\n",
       "    <tr style=\"text-align: right;\">\n",
       "      <th></th>\n",
       "      <th>age</th>\n",
       "    </tr>\n",
       "  </thead>\n",
       "  <tbody>\n",
       "    <tr>\n",
       "      <th>count</th>\n",
       "      <td>1046.00</td>\n",
       "    </tr>\n",
       "    <tr>\n",
       "      <th>mean</th>\n",
       "      <td>29.88</td>\n",
       "    </tr>\n",
       "    <tr>\n",
       "      <th>std</th>\n",
       "      <td>14.41</td>\n",
       "    </tr>\n",
       "    <tr>\n",
       "      <th>min</th>\n",
       "      <td>0.17</td>\n",
       "    </tr>\n",
       "    <tr>\n",
       "      <th>25%</th>\n",
       "      <td>21.00</td>\n",
       "    </tr>\n",
       "    <tr>\n",
       "      <th>50%</th>\n",
       "      <td>28.00</td>\n",
       "    </tr>\n",
       "    <tr>\n",
       "      <th>75%</th>\n",
       "      <td>39.00</td>\n",
       "    </tr>\n",
       "    <tr>\n",
       "      <th>max</th>\n",
       "      <td>80.00</td>\n",
       "    </tr>\n",
       "  </tbody>\n",
       "</table>\n",
       "</div>"
      ],
      "text/plain": [
       "           age\n",
       "count  1046.00\n",
       "mean     29.88\n",
       "std      14.41\n",
       "min       0.17\n",
       "25%      21.00\n",
       "50%      28.00\n",
       "75%      39.00\n",
       "max      80.00"
      ]
     },
     "execution_count": 91,
     "metadata": {},
     "output_type": "execute_result"
    }
   ],
   "source": [
    "titanic.describe() #only calculates on numeric columns"
   ]
  },
  {
   "cell_type": "code",
   "execution_count": 92,
   "id": "5c5ff72c-ffe4-4725-b07d-4939c18b916e",
   "metadata": {},
   "outputs": [
    {
     "data": {
      "text/plain": [
       "count      1309\n",
       "unique        2\n",
       "top       False\n",
       "freq        809\n",
       "Name: survived, dtype: object"
      ]
     },
     "execution_count": 92,
     "metadata": {},
     "output_type": "execute_result"
    }
   ],
   "source": [
    "(titanic.survived =='yes').describe()"
   ]
  },
  {
   "cell_type": "code",
   "execution_count": null,
   "id": "a0688d91-b191-40f1-b5f9-43531a274463",
   "metadata": {},
   "outputs": [],
   "source": []
  },
  {
   "cell_type": "code",
   "execution_count": 93,
   "id": "3a7b2bc2-f1fd-4e22-b489-461df00b324b",
   "metadata": {},
   "outputs": [],
   "source": [
    "%matplotlib inline"
   ]
  },
  {
   "cell_type": "code",
   "execution_count": 94,
   "id": "cdee294b-581c-4d32-b5e9-78a2aa6b6025",
   "metadata": {},
   "outputs": [
    {
     "data": {
      "image/png": "[encoded data removed]",
      "text/plain": [
       "<Figure size 640x480 with 1 Axes>"
      ]
     },
     "metadata": {},
     "output_type": "display_data"
    }
   ],
   "source": [
    "histogram = titanic.hist() #Dasha Davis"
   ]
  },
  {
   "cell_type": "markdown",
   "id": "f730cdfd-ecec-4248-9573-e78c39cc8da8",
   "metadata": {},
   "source": [
    "## Dasha Davis"
   ]
  },
  {
   "cell_type": "code",
   "execution_count": null,
   "id": "0b2c3b62-72ad-42ec-bbf4-91711b53c0a9",
   "metadata": {},
   "outputs": [],
   "source": []
  }
 ],
 "metadata": {
  "kernelspec": {
   "display_name": "Python 3 (ipykernel)",
   "language": "python",
   "name": "python3"
  },
  "language_info": {
   "codemirror_mode": {
    "name": "ipython",
    "version": 3
   },
   "file_extension": ".py",
   "mimetype": "text/x-python",
   "name": "python",
   "nbconvert_exporter": "python",
   "pygments_lexer": "ipython3",
   "version": "3.9.12"
  }
 },
 "nbformat": 4,
 "nbformat_minor": 5
}
